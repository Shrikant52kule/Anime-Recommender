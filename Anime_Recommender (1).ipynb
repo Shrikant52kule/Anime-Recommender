{
  "cells": [
    {
      "cell_type": "code",
      "execution_count": null,
      "metadata": {
        "colab": {
          "base_uri": "https://localhost:8080/"
        },
        "id": "uZJ4engencDl",
        "outputId": "f6ac796b-453f-4360-e2d4-4ecd1a44e729"
      },
      "outputs": [
        {
          "output_type": "stream",
          "name": "stdout",
          "text": [
            "Drive already mounted at /content/drive/; to attempt to forcibly remount, call drive.mount(\"/content/drive/\", force_remount=True).\n"
          ]
        }
      ],
      "source": [
        "from google.colab import drive\n",
        "drive.mount('/content/drive/')\n"
      ]
    },
    {
      "cell_type": "code",
      "execution_count": null,
      "metadata": {
        "colab": {
          "base_uri": "https://localhost:8080/"
        },
        "id": "MDchjHkxwR21",
        "outputId": "4fa18a33-29a4-4d82-b6e9-74db5a0be14d"
      },
      "outputs": [
        {
          "output_type": "stream",
          "name": "stdout",
          "text": [
            "Anime Dataset:\n",
            "   anime_id                              name  \\\n",
            "0     32281                    Kimi no Na wa.   \n",
            "1      5114  Fullmetal Alchemist: Brotherhood   \n",
            "2     28977                          Gintama°   \n",
            "3      9253                       Steins;Gate   \n",
            "4      9969                     Gintama&#039;   \n",
            "\n",
            "                                               genre   type episodes  rating  \\\n",
            "0               Drama, Romance, School, Supernatural  Movie        1    9.37   \n",
            "1  Action, Adventure, Drama, Fantasy, Magic, Mili...     TV       64    9.26   \n",
            "2  Action, Comedy, Historical, Parody, Samurai, S...     TV       51    9.25   \n",
            "3                                   Sci-Fi, Thriller     TV       24    9.17   \n",
            "4  Action, Comedy, Historical, Parody, Samurai, S...     TV       51    9.16   \n",
            "\n",
            "   members  \n",
            "0   200630  \n",
            "1   793665  \n",
            "2   114262  \n",
            "3   673572  \n",
            "4   151266  \n",
            "\n",
            "Ratings Dataset:\n",
            "   user_id  anime_id  rating\n",
            "0        1        20      -1\n",
            "1        1        24      -1\n",
            "2        1        79      -1\n",
            "3        1       226      -1\n",
            "4        1       241      -1\n"
          ]
        }
      ],
      "source": [
        "import pandas as pd\n",
        "# Define file paths (Update these paths based on your file location)\n",
        "anime_path = \"/content/drive/MyDrive/Anime Recommendation/anime.csv\"\n",
        "ratings_path = \"/content/drive/MyDrive/Anime Recommendation/rating.csv\"\n",
        "\n",
        "# Load datasets\n",
        "anime_df = pd.read_csv(anime_path)\n",
        "ratings_df = pd.read_csv(ratings_path)\n",
        "\n",
        "# Display first few rows\n",
        "print(\"Anime Dataset:\")\n",
        "print(anime_df.head())\n",
        "\n",
        "print(\"\\nRatings Dataset:\")\n",
        "print(ratings_df.head())\n"
      ]
    },
    {
      "cell_type": "code",
      "execution_count": null,
      "metadata": {
        "colab": {
          "base_uri": "https://localhost:8080/"
        },
        "id": "kSMblzxezbI5",
        "outputId": "0136a3bb-5187-42e2-d5eb-46d8fbd22653"
      },
      "outputs": [
        {
          "output_type": "stream",
          "name": "stdout",
          "text": [
            "\n",
            "Missing values in anime dataset:\n",
            "anime_id      0\n",
            "name          0\n",
            "genre        62\n",
            "type         25\n",
            "episodes      0\n",
            "rating      230\n",
            "members       0\n",
            "dtype: int64\n",
            "\n",
            "Missing values in ratings dataset:\n",
            "user_id     0\n",
            "anime_id    0\n",
            "rating      0\n",
            "dtype: int64\n"
          ]
        }
      ],
      "source": [
        "# Check missing values\n",
        "print(\"\\nMissing values in anime dataset:\")\n",
        "print(anime_df.isnull().sum())\n",
        "\n",
        "print(\"\\nMissing values in ratings dataset:\")\n",
        "print(ratings_df.isnull().sum())\n",
        "\n",
        "# Drop rows with missing values (if necessary)\n",
        "anime_df.dropna(inplace=True)\n",
        "ratings_df.dropna(inplace=True)\n"
      ]
    },
    {
      "cell_type": "code",
      "execution_count": null,
      "metadata": {
        "colab": {
          "base_uri": "https://localhost:8080/"
        },
        "id": "VSryoxyPzg0a",
        "outputId": "a3dcb9a6-133d-482a-ff21-154a3d850f40"
      },
      "outputs": [
        {
          "output_type": "stream",
          "name": "stdout",
          "text": [
            "\n",
            "Processed Genres:\n",
            "                               name  \\\n",
            "0                    Kimi no Na wa.   \n",
            "1  Fullmetal Alchemist: Brotherhood   \n",
            "2                          Gintama°   \n",
            "3                       Steins;Gate   \n",
            "4                     Gintama&#039;   \n",
            "\n",
            "                                               genre  \n",
            "0             [Drama, Romance, School, Supernatural]  \n",
            "1  [Action, Adventure, Drama, Fantasy, Magic, Mil...  \n",
            "2  [Action, Comedy, Historical, Parody, Samurai, ...  \n",
            "3                                 [Sci-Fi, Thriller]  \n",
            "4  [Action, Comedy, Historical, Parody, Samurai, ...  \n"
          ]
        }
      ],
      "source": [
        "# Convert 'genre' column into a list of genres\n",
        "anime_df['genre'] = anime_df['genre'].apply(lambda x: x.split(', ') if isinstance(x, str) else [])\n",
        "\n",
        "# Display processed genres\n",
        "print(\"\\nProcessed Genres:\")\n",
        "print(anime_df[['name', 'genre']].head())\n"
      ]
    },
    {
      "cell_type": "code",
      "execution_count": null,
      "metadata": {
        "colab": {
          "base_uri": "https://localhost:8080/"
        },
        "id": "PlEtO9SBzqqy",
        "outputId": "619ceec6-ec1f-4466-8cba-f18b5f228b74"
      },
      "outputs": [
        {
          "output_type": "stream",
          "name": "stdout",
          "text": [
            "Anime Dataset Shape: (12017, 7)\n",
            "Ratings Dataset Shape: (7813737, 3)\n",
            "\n",
            "Anime Dataset Info:\n",
            "<class 'pandas.core.frame.DataFrame'>\n",
            "Index: 12017 entries, 0 to 12293\n",
            "Data columns (total 7 columns):\n",
            " #   Column    Non-Null Count  Dtype  \n",
            "---  ------    --------------  -----  \n",
            " 0   anime_id  12017 non-null  int64  \n",
            " 1   name      12017 non-null  object \n",
            " 2   genre     12017 non-null  object \n",
            " 3   type      12017 non-null  object \n",
            " 4   episodes  12017 non-null  object \n",
            " 5   rating    12017 non-null  float64\n",
            " 6   members   12017 non-null  int64  \n",
            "dtypes: float64(1), int64(2), object(4)\n",
            "memory usage: 751.1+ KB\n",
            "None\n",
            "\n",
            "Ratings Dataset Info:\n",
            "<class 'pandas.core.frame.DataFrame'>\n",
            "RangeIndex: 7813737 entries, 0 to 7813736\n",
            "Data columns (total 3 columns):\n",
            " #   Column    Dtype\n",
            "---  ------    -----\n",
            " 0   user_id   int64\n",
            " 1   anime_id  int64\n",
            " 2   rating    int64\n",
            "dtypes: int64(3)\n",
            "memory usage: 178.8 MB\n",
            "None\n"
          ]
        }
      ],
      "source": [
        "# Check dataset shapes\n",
        "print(f\"Anime Dataset Shape: {anime_df.shape}\")\n",
        "print(f\"Ratings Dataset Shape: {ratings_df.shape}\")\n",
        "\n",
        "# Summary statistics\n",
        "print(\"\\nAnime Dataset Info:\")\n",
        "print(anime_df.info())\n",
        "\n",
        "print(\"\\nRatings Dataset Info:\")\n",
        "print(ratings_df.info())\n"
      ]
    },
    {
      "cell_type": "code",
      "execution_count": null,
      "metadata": {
        "id": "8WDvJkSqzwdP",
        "colab": {
          "base_uri": "https://localhost:8080/",
          "height": 481
        },
        "outputId": "0b875244-0b21-4a36-8dd4-064c574ba9c7"
      },
      "outputs": [
        {
          "output_type": "display_data",
          "data": {
            "text/plain": [
              "<Figure size 800x500 with 1 Axes>"
            ],
            "image/png": "[encoded data removed]"
          },
          "metadata": {}
        }
      ],
      "source": [
        "import matplotlib.pyplot as plt\n",
        "import seaborn as sns\n",
        "\n",
        "# Plot rating distribution\n",
        "plt.figure(figsize=(8, 5))\n",
        "sns.histplot(ratings_df['rating'], bins=10, kde=True, color='blue')\n",
        "plt.title(\"Distribution of Ratings\")\n",
        "plt.xlabel(\"Rating\")\n",
        "plt.ylabel(\"Count\")\n",
        "plt.show()\n"
      ]
    },
    {
      "cell_type": "code",
      "execution_count": null,
      "metadata": {
        "id": "iuLKx5a602Vy",
        "colab": {
          "base_uri": "https://localhost:8080/"
        },
        "outputId": "c0d85274-1788-4490-dbed-556e310c5b94"
      },
      "outputs": [
        {
          "output_type": "stream",
          "name": "stdout",
          "text": [
            "\n",
            "Top 10 Most Rated Anime:\n",
            "      anime_id  rating                              name\n",
            "1389      1535   39340                        Death Note\n",
            "6605     11757   30583                  Sword Art Online\n",
            "7438     16498   29584                Shingeki no Kyojin\n",
            "1427      1575   27718   Code Geass: Hangyaku no Lelouch\n",
            "201        226   27506                        Elfen Lied\n",
            "4630      6547   27183                      Angel Beats!\n",
            "10          20   25925                            Naruto\n",
            "99         121   25032               Fullmetal Alchemist\n",
            "3965      5114   24574  Fullmetal Alchemist: Brotherhood\n",
            "3558      4224   24283                         Toradora!\n"
          ]
        }
      ],
      "source": [
        "# Count the number of ratings per anime\n",
        "anime_ratings_count = ratings_df.groupby('anime_id')['rating'].count().reset_index()\n",
        "\n",
        "# Merge with anime details\n",
        "anime_ratings_count = anime_ratings_count.merge(anime_df[['anime_id', 'name']], on='anime_id')\n",
        "\n",
        "# Sort by most rated\n",
        "most_rated_anime = anime_ratings_count.sort_values(by='rating', ascending=False)\n",
        "\n",
        "# Display top 10 most rated anime\n",
        "print(\"\\nTop 10 Most Rated Anime:\")\n",
        "print(most_rated_anime.head(10))\n"
      ]
    },
    {
      "cell_type": "code",
      "execution_count": null,
      "metadata": {
        "id": "N81-aSJ107ue",
        "colab": {
          "base_uri": "https://localhost:8080/",
          "height": 531
        },
        "outputId": "701d1c1d-022e-442b-fb97-e1758a52e2b4"
      },
      "outputs": [
        {
          "output_type": "stream",
          "name": "stderr",
          "text": [
            "<ipython-input-8-4f1399a73510>:14: FutureWarning: \n",
            "\n",
            "Passing `palette` without assigning `hue` is deprecated and will be removed in v0.14.0. Assign the `x` variable to `hue` and set `legend=False` for the same effect.\n",
            "\n",
            "  sns.barplot(x=genre_df['Genre'][:10], y=genre_df['Count'][:10], palette=\"viridis\")\n"
          ]
        },
        {
          "output_type": "display_data",
          "data": {
            "text/plain": [
              "<Figure size 1000x500 with 1 Axes>"
            ],
            "image/png": "[encoded data removed]"
          },
          "metadata": {}
        }
      ],
      "source": [
        "from collections import Counter\n",
        "\n",
        "# Flatten all genres into a single list\n",
        "all_genres = [genre for sublist in anime_df['genre'] for genre in sublist]\n",
        "\n",
        "# Count occurrences\n",
        "genre_counts = Counter(all_genres)\n",
        "\n",
        "# Convert to DataFrame\n",
        "genre_df = pd.DataFrame(genre_counts.items(), columns=['Genre', 'Count']).sort_values(by='Count', ascending=False)\n",
        "\n",
        "# Plot the most common genres\n",
        "plt.figure(figsize=(10, 5))\n",
        "sns.barplot(x=genre_df['Genre'][:10], y=genre_df['Count'][:10], palette=\"viridis\")\n",
        "plt.xticks(rotation=45)\n",
        "plt.title(\"Top 10 Most Popular Anime Genres\")\n",
        "plt.xlabel(\"Genre\")\n",
        "plt.ylabel(\"Count\")\n",
        "plt.show()\n"
      ]
    },
    {
      "cell_type": "code",
      "execution_count": null,
      "metadata": {
        "id": "NyidRwNi1A5g",
        "colab": {
          "base_uri": "https://localhost:8080/"
        },
        "outputId": "1ce3bf60-264b-419e-bd41-e546c127cbc1"
      },
      "outputs": [
        {
          "output_type": "stream",
          "name": "stdout",
          "text": [
            "\n",
            "Dataset Sparsity: 99.05%\n"
          ]
        }
      ],
      "source": [
        "# Calculate total unique users and anime\n",
        "num_users = ratings_df['user_id'].nunique()\n",
        "num_anime = ratings_df['anime_id'].nunique()\n",
        "\n",
        "# Calculate sparsity\n",
        "sparsity = (1.0 - (len(ratings_df) / (num_users * num_anime))) * 100\n",
        "print(f\"\\nDataset Sparsity: {sparsity:.2f}%\")\n"
      ]
    },
    {
      "cell_type": "code",
      "execution_count": null,
      "metadata": {
        "id": "i33W6AIj0Js_",
        "colab": {
          "base_uri": "https://localhost:8080/"
        },
        "outputId": "c7ddc6a9-8d9d-4bd0-b39e-ee29bbf793c2"
      },
      "outputs": [
        {
          "output_type": "stream",
          "name": "stdout",
          "text": [
            "Index(['anime_id', 'name', 'genre', 'type', 'episodes', 'rating', 'members'], dtype='object')\n",
            "Index(['user_id', 'anime_id', 'rating'], dtype='object')\n",
            "name\n"
          ]
        }
      ],
      "source": [
        "# Assuming you want to print the column names of the dataframe 'anime_df'\n",
        "print(anime_df.columns)\n",
        "print(ratings_df.columns)\n",
        "\n",
        "# OR, if you want to print a specific column name, replace 'column_name'\n",
        "# with the actual name of the column you are interested in\n",
        "column_name = 'name'  # Replace with your desired column name\n",
        "print(column_name)"
      ]
    },
    {
      "cell_type": "code",
      "execution_count": null,
      "metadata": {
        "colab": {
          "base_uri": "https://localhost:8080/"
        },
        "id": "n8PRMP0D3F-3",
        "outputId": "fff1bd9e-a23e-4a04-a5d5-75ba20a9bae0"
      },
      "outputs": [
        {
          "output_type": "stream",
          "name": "stdout",
          "text": [
            "Shape of ratings matrix: (61343, 2000)\n"
          ]
        }
      ],
      "source": [
        "import pandas as pd\n",
        "\n",
        "# Step 1: Reduce dataset size (Keep only top-rated anime & active users)\n",
        "top_anime = ratings_df['anime_id'].value_counts().head(2000).index  # Keep top 2000 most-rated anime\n",
        "filtered_ratings_df = ratings_df[ratings_df['anime_id'].isin(top_anime)]\n",
        "\n",
        "user_counts = filtered_ratings_df['user_id'].value_counts()\n",
        "active_users = user_counts[user_counts >= 10].index  # Keep users who rated at least 10 anime\n",
        "filtered_ratings_df = filtered_ratings_df[filtered_ratings_df['user_id'].isin(active_users)]\n",
        "\n",
        "# Step 2: Aggregate duplicate ratings\n",
        "filtered_ratings_df = filtered_ratings_df.groupby(['user_id', 'anime_id'])['rating'].mean().reset_index()\n",
        "\n",
        "# Step 3: Convert to Sparse Matrix to Prevent Crashes\n",
        "from scipy.sparse import csr_matrix\n",
        "\n",
        "# Pivot ratings data into a sparse matrix\n",
        "anime_ratings_pivot = filtered_ratings_df.pivot(index='user_id', columns='anime_id', values='rating').fillna(0)\n",
        "anime_ratings_sparse = csr_matrix(anime_ratings_pivot.values)\n",
        "\n",
        "print(f\"Shape of ratings matrix: {anime_ratings_pivot.shape}\")\n"
      ]
    },
    {
      "cell_type": "code",
      "execution_count": null,
      "metadata": {
        "colab": {
          "base_uri": "https://localhost:8080/"
        },
        "id": "Y_UpsS_X6aLK",
        "outputId": "c4411f42-8d37-4555-f548-10f4b2192ee5"
      },
      "outputs": [
        {
          "output_type": "stream",
          "name": "stdout",
          "text": [
            "Total anime IDs available: 2000\n",
            "Some available anime IDs: [1, 5, 6, 7, 15, 16, 18, 19, 20, 22]\n"
          ]
        }
      ],
      "source": [
        "# Check if anime_ratings_pivot contains any columns (anime IDs)\n",
        "if anime_ratings_pivot.shape[1] == 0:\n",
        "    print(\"Error: No anime IDs found after filtering!\")\n",
        "else:\n",
        "    print(f\"Total anime IDs available: {anime_ratings_pivot.shape[1]}\")\n",
        "    print(\"Some available anime IDs:\", list(anime_ratings_pivot.columns)[:10])  # Show first 10 IDs\n",
        "\n"
      ]
    },
    {
      "cell_type": "code",
      "execution_count": null,
      "metadata": {
        "id": "nDSanUMD9MiH"
      },
      "outputs": [],
      "source": [
        "top_anime = ratings_df['anime_id'].value_counts().head(5000).index  # Keep top 5000 most-rated anime\n"
      ]
    },
    {
      "cell_type": "code",
      "execution_count": null,
      "metadata": {
        "colab": {
          "base_uri": "https://localhost:8080/"
        },
        "id": "Vw5DDH1296pK",
        "outputId": "60dea980-1a3d-4e84-fb81-ff38792ead94"
      },
      "outputs": [
        {
          "output_type": "stream",
          "name": "stdout",
          "text": [
            "KNN Model trained successfully on (61343, 2000)\n"
          ]
        }
      ],
      "source": [
        "from sklearn.neighbors import NearestNeighbors\n",
        "from scipy.sparse import csr_matrix\n",
        "\n",
        "# Rebuild the sparse matrix to match KNN training dimensions\n",
        "anime_ratings_pivot = anime_ratings_pivot.loc[:, list(anime_ratings_pivot.columns)[:2000]]  # Keep only 2000 anime\n",
        "anime_ratings_sparse = csr_matrix(anime_ratings_pivot.values)\n",
        "\n",
        "# Train KNN Model\n",
        "knn = NearestNeighbors(metric='cosine', algorithm='brute')\n",
        "knn.fit(anime_ratings_sparse.T)  # Transpose to train correctly\n",
        "\n",
        "print(\"KNN Model trained successfully on\", anime_ratings_pivot.shape)\n"
      ]
    },
    {
      "cell_type": "code",
      "execution_count": null,
      "metadata": {
        "colab": {
          "base_uri": "https://localhost:8080/"
        },
        "id": "flpAYqCA6ym-",
        "outputId": "92dcc84d-6fb4-4cca-ec85-4350f489f34b"
      },
      "outputs": [
        {
          "output_type": "stream",
          "name": "stdout",
          "text": [
            "     anime_id                             name\n",
            "104       205                 Samurai Champloo\n",
            "152         5  Cowboy Bebop: Tengoku no Tobira\n",
            "211        30          Neon Genesis Evangelion\n",
            "214         6                           Trigun\n",
            "456       227                             FLCL\n"
          ]
        }
      ],
      "source": [
        "def get_similar_anime(anime_id, n=5):\n",
        "    try:\n",
        "        if anime_id not in anime_ratings_pivot.columns:\n",
        "            return f\"Anime ID {anime_id} not found in the dataset!\"\n",
        "\n",
        "        anime_idx = list(anime_ratings_pivot.columns).index(anime_id)  # Find index of anime_id\n",
        "        distances, indices = knn.kneighbors(anime_ratings_sparse.T[anime_idx].reshape(1, -1), n_neighbors=n+1)\n",
        "\n",
        "        # Get similar anime IDs (excluding itself)\n",
        "        similar_anime_ids = [anime_ratings_pivot.columns[i] for i in indices.flatten()[1:]]\n",
        "\n",
        "        # Fetch names from anime_df\n",
        "        return anime_df[anime_df['anime_id'].isin(similar_anime_ids)][['anime_id', 'name']]\n",
        "\n",
        "    except Exception as e:\n",
        "        return f\"Error: {str(e)}\"\n",
        "\n",
        "# Example usage\n",
        "sample_anime_id = list(anime_ratings_pivot.columns)[0]  # Select first valid anime ID\n",
        "similar_anime = get_similar_anime(sample_anime_id, 5)\n",
        "print(similar_anime)\n"
      ]
    },
    {
      "cell_type": "code",
      "execution_count": null,
      "metadata": {
        "colab": {
          "base_uri": "https://localhost:8080/"
        },
        "id": "2jHFtduxAs8m",
        "outputId": "ed738a1e-4df7-4a42-e8e0-97efbbfc5492"
      },
      "outputs": [
        {
          "output_type": "stream",
          "name": "stdout",
          "text": [
            "Reduced Ratings Dataset Shape: (7024841, 3)\n",
            "Final User-Rating Matrix Shape: (39466, 4560)\n"
          ]
        }
      ],
      "source": [
        "\n",
        "\n",
        "# Keep users who have rated at least 50 anime\n",
        "user_counts = ratings_df['user_id'].value_counts()\n",
        "active_users = user_counts[user_counts >= 50].index\n",
        "filtered_ratings_df = ratings_df[ratings_df['user_id'].isin(active_users)]\n",
        "\n",
        "# Keep only anime that have at least 100 ratings\n",
        "anime_counts = filtered_ratings_df['anime_id'].value_counts()\n",
        "popular_anime = anime_counts[anime_counts >= 100].index\n",
        "filtered_ratings_df = filtered_ratings_df[filtered_ratings_df['anime_id'].isin(popular_anime)]\n",
        "\n",
        "print(\"Reduced Ratings Dataset Shape:\", filtered_ratings_df.shape)\n",
        "\n",
        "from sklearn.neighbors import NearestNeighbors\n",
        "from scipy.sparse import csr_matrix\n",
        "\n",
        "# Aggregate duplicate ratings before pivoting\n",
        "filtered_ratings_df = filtered_ratings_df.groupby(['user_id', 'anime_id'])['rating'].mean().reset_index()\n",
        "\n",
        "# Pivot to create User-Item Matrix\n",
        "user_ratings_pivot = filtered_ratings_df.pivot(index='user_id', columns='anime_id', values='rating').fillna(0)\n",
        "\n",
        "# Check the new shape\n",
        "print(\"Final User-Rating Matrix Shape:\", user_ratings_pivot.shape)\n",
        "\n"
      ]
    },
    {
      "cell_type": "code",
      "execution_count": null,
      "metadata": {
        "colab": {
          "base_uri": "https://localhost:8080/"
        },
        "id": "mr_N8W7_AvBG",
        "outputId": "6b99d33b-6595-4c26-e34f-75800f8b11da"
      },
      "outputs": [
        {
          "output_type": "stream",
          "name": "stdout",
          "text": [
            "Sparse User-Ratings Matrix Shape: (39466, 4560)\n"
          ]
        }
      ],
      "source": [
        "from scipy.sparse import csr_matrix\n",
        "\n",
        "# Convert the pivot table to a sparse matrix\n",
        "user_ratings_sparse = csr_matrix(user_ratings_pivot.values)\n",
        "\n",
        "# Check the new shape\n",
        "print(\"Sparse User-Ratings Matrix Shape:\", user_ratings_sparse.shape)\n",
        "\n"
      ]
    },
    {
      "cell_type": "code",
      "execution_count": null,
      "metadata": {
        "colab": {
          "base_uri": "https://localhost:8080/"
        },
        "id": "4_Oewe_sI3Sl",
        "outputId": "c1169ebf-3eaf-44b9-9158-800e16e3f1d9"
      },
      "outputs": [
        {
          "output_type": "stream",
          "name": "stdout",
          "text": [
            "✅ User-Based KNN Model Trained Successfully!\n"
          ]
        }
      ],
      "source": [
        "from sklearn.neighbors import NearestNeighbors\n",
        "\n",
        "# Initialize KNN model\n",
        "user_knn = NearestNeighbors(metric='cosine', algorithm='brute')\n",
        "\n",
        "# Train the model on the sparse user ratings matrix\n",
        "user_knn.fit(user_ratings_sparse)\n",
        "\n",
        "print(\"✅ User-Based KNN Model Trained Successfully!\")\n"
      ]
    },
    {
      "cell_type": "code",
      "execution_count": null,
      "metadata": {
        "colab": {
          "base_uri": "https://localhost:8080/"
        },
        "id": "-PckVpEVI7LI",
        "outputId": "38afd792-7414-47e2-eaa8-bb260dda6291"
      },
      "outputs": [
        {
          "output_type": "stream",
          "name": "stdout",
          "text": [
            "      anime_id                    name\n",
            "6        11061  Hunter x Hunter (2011)\n",
            "804      11757        Sword Art Online\n",
            "1057     11617         High School DxD\n",
            "1104     14345                 Btooom!\n",
            "4761       125                 Futakoi\n"
          ]
        }
      ],
      "source": [
        "def get_user_based_recommendations(user_id, n=5):\n",
        "    if user_id not in user_ratings_pivot.index:\n",
        "        return \"User ID not found in dataset!\"\n",
        "\n",
        "    # Get the index of the user in the matrix\n",
        "    user_idx = list(user_ratings_pivot.index).index(user_id)\n",
        "\n",
        "    # Find nearest neighbors (similar users)\n",
        "    distances, indices = user_knn.kneighbors(user_ratings_sparse[user_idx], n_neighbors=n+1)\n",
        "\n",
        "    # Get similar users (excluding the user itself)\n",
        "    similar_users = [user_ratings_pivot.index[i] for i in indices.flatten()[1:]]\n",
        "\n",
        "    # Get anime watched by similar users\n",
        "    recommended_anime = ratings_df[ratings_df['user_id'].isin(similar_users)] \\\n",
        "                        .groupby('anime_id')['rating'].mean() \\\n",
        "                        .sort_values(ascending=False) \\\n",
        "                        .head(n)\n",
        "\n",
        "    # Fetch anime names\n",
        "    return anime_df[anime_df['anime_id'].isin(recommended_anime.index)][['anime_id', 'name']]\n",
        "\n",
        "# Example: Get recommendations for a user\n",
        "sample_user_id = user_ratings_pivot.index[0]  # Pick the first user\n",
        "recommended_anime = get_user_based_recommendations(sample_user_id, 5)\n",
        "print(recommended_anime)\n"
      ]
    },
    {
      "cell_type": "code",
      "execution_count": null,
      "metadata": {
        "colab": {
          "base_uri": "https://localhost:8080/"
        },
        "id": "RvMnhqJ3KQo-",
        "outputId": "e3c52f7b-765d-4f2c-ad88-e3f62d10b4b6"
      },
      "outputs": [
        {
          "output_type": "stream",
          "name": "stdout",
          "text": [
            "Index(['anime_id', 'name', 'genre', 'type', 'episodes', 'rating', 'members'], dtype='object')\n"
          ]
        }
      ],
      "source": [
        "print(anime_df.columns)"
      ]
    },
    {
      "cell_type": "code",
      "execution_count": null,
      "metadata": {
        "colab": {
          "base_uri": "https://localhost:8080/"
        },
        "id": "Rk9Cb_eaJXGY",
        "outputId": "ad493e40-a0e7-4988-dd78-7617e69fea41"
      },
      "outputs": [
        {
          "output_type": "stream",
          "name": "stdout",
          "text": [
            "   anime_id                              name  \\\n",
            "0     32281                    Kimi no Na wa.   \n",
            "1      5114  Fullmetal Alchemist: Brotherhood   \n",
            "2     28977                          Gintama°   \n",
            "3      9253                       Steins;Gate   \n",
            "4      9969                     Gintama&#039;   \n",
            "\n",
            "                                   combined_features  \n",
            "0  Drama, Romance, School, Supernatural Movie Rat...  \n",
            "1  Action, Adventure, Drama, Fantasy, Magic, Mili...  \n",
            "2  Action, Comedy, Historical, Parody, Samurai, S...  \n",
            "3     Sci-Fi, Thriller TV Rating:9.17 Members:673572  \n",
            "4  Action, Comedy, Historical, Parody, Samurai, S...  \n"
          ]
        }
      ],
      "source": [
        "import pandas as pd\n",
        "\n",
        "# ... (your existing code) ...\n",
        "\n",
        "# Fill missing values with an empty string\n",
        "anime_df['genre'] = anime_df['genre'].fillna('')\n",
        "anime_df['type'] = anime_df['type'].fillna('')\n",
        "anime_df['rating'] = anime_df['rating'].fillna(0).astype(str)  # Convert rating to string\n",
        "anime_df['members'] = anime_df['members'].fillna(0).astype(str)  # Convert members to string\n",
        "\n",
        "# Convert 'genre' column from list to string (using ', ' as separator)\n",
        "anime_df['genre'] = anime_df['genre'].apply(lambda x: ', '.join(x) if isinstance(x, list) else x)\n",
        "\n",
        "# Combine relevant features into a single text column\n",
        "anime_df['combined_features'] = anime_df['genre'] + \" \" + anime_df['type'] + \" Rating:\" + anime_df['rating'] + \" Members:\" + anime_df['members']\n",
        "\n",
        "# Display a sample\n",
        "print(anime_df[['anime_id', 'name', 'combined_features']].head())"
      ]
    },
    {
      "cell_type": "code",
      "execution_count": null,
      "metadata": {
        "colab": {
          "base_uri": "https://localhost:8080/"
        },
        "id": "jvbMpWOGJW90",
        "outputId": "7934df4a-aae0-4ba3-ad8a-29e9f5255bb6"
      },
      "outputs": [
        {
          "output_type": "stream",
          "name": "stdout",
          "text": [
            "TF-IDF Matrix Shape: (12017, 6668)\n"
          ]
        }
      ],
      "source": [
        "from sklearn.feature_extraction.text import TfidfVectorizer\n",
        "\n",
        "# Initialize TF-IDF Vectorizer\n",
        "tfidf = TfidfVectorizer(stop_words='english')\n",
        "\n",
        "# Transform the combined text features into TF-IDF vectors\n",
        "tfidf_matrix = tfidf.fit_transform(anime_df['combined_features'])\n",
        "\n",
        "# Check matrix shape\n",
        "print(\"TF-IDF Matrix Shape:\", tfidf_matrix.shape)\n",
        "\n"
      ]
    },
    {
      "cell_type": "code",
      "execution_count": null,
      "metadata": {
        "colab": {
          "base_uri": "https://localhost:8080/"
        },
        "id": "1lrm7lpxJW0g",
        "outputId": "344c6bee-d55c-48fd-fa64-138a2c29f003"
      },
      "outputs": [
        {
          "output_type": "stream",
          "name": "stdout",
          "text": [
            "Cosine Similarity Matrix Shape: (12017, 12017)\n"
          ]
        }
      ],
      "source": [
        "from sklearn.metrics.pairwise import cosine_similarity\n",
        "\n",
        "# Compute cosine similarity matrix\n",
        "cosine_sim = cosine_similarity(tfidf_matrix)\n",
        "\n",
        "# Check shape\n",
        "print(\"Cosine Similarity Matrix Shape:\", cosine_sim.shape)\n"
      ]
    },
    {
      "cell_type": "code",
      "execution_count": null,
      "metadata": {
        "colab": {
          "base_uri": "https://localhost:8080/"
        },
        "id": "ThX7q7s6LMa3",
        "outputId": "92510a52-dc13-4566-9080-a7ea711035c5"
      },
      "outputs": [
        {
          "output_type": "stream",
          "name": "stdout",
          "text": [
            "       anime_id                                               name\n",
            "10821     25815                               Yokohama Bakkure-tai\n",
            "9683      32136                                  Narara Superboard\n",
            "10410     29429                                      Straw Byururu\n",
            "8135      20237                 Anime Document: München e no Michi\n",
            "10555     12529  Time-Patrol Bon: Fujiko F. Fujio Anime Special...\n"
          ]
        }
      ],
      "source": [
        "def get_similar_anime(anime_name, n=5):\n",
        "    # Find the anime index\n",
        "    idx = anime_df[anime_df['name'] == anime_name].index\n",
        "\n",
        "    if len(idx) == 0:\n",
        "        return \"Anime not found!\"\n",
        "\n",
        "    idx = idx[0]  # Extract index\n",
        "\n",
        "    # Get similarity scores for all anime\n",
        "    sim_scores = list(enumerate(cosine_sim[idx]))\n",
        "\n",
        "    # Sort by similarity score\n",
        "    sim_scores = sorted(sim_scores, key=lambda x: x[1], reverse=True)\n",
        "\n",
        "    # Get top N similar anime (excluding itself)\n",
        "    top_anime_indices = [i[0] for i in sim_scores[1:n+1]]\n",
        "\n",
        "    # Return recommended anime\n",
        "    return anime_df.iloc[top_anime_indices][['anime_id', 'name']]\n",
        "\n",
        "# Example: Get recommendations for \"Sword Art Online\"\n",
        "recommended_anime = get_similar_anime(\"Sword Art Online\", 5)\n",
        "print(recommended_anime)\n"
      ]
    },
    {
      "cell_type": "code",
      "execution_count": null,
      "metadata": {
        "colab": {
          "base_uri": "https://localhost:8080/"
        },
        "id": "RiQF97JyWBe1",
        "outputId": "94660d70-2e7f-4082-d274-14223021f216"
      },
      "outputs": [
        {
          "output_type": "stream",
          "name": "stdout",
          "text": [
            "RMSE: 0.22803508501982772\n"
          ]
        }
      ],
      "source": [
        "from sklearn.metrics import mean_squared_error\n",
        "import numpy as np\n",
        "\n",
        "# Sample actual and predicted ratings (Replace with real values)\n",
        "actual_ratings = [4, 5, 3, 4, 5]\n",
        "predicted_ratings = [3.8, 4.6, 3.2, 4.1, 4.9]\n",
        "\n",
        "# Calculate RMSE\n",
        "rmse = np.sqrt(mean_squared_error(actual_ratings, predicted_ratings))\n",
        "print(f\"RMSE: {rmse}\")\n"
      ]
    },
    {
      "cell_type": "code",
      "execution_count": null,
      "metadata": {
        "colab": {
          "base_uri": "https://localhost:8080/"
        },
        "id": "5g-8vw0YWWL7",
        "outputId": "fb561499-bb2e-4cf6-d15e-16444c7329d5"
      },
      "outputs": [
        {
          "output_type": "stream",
          "name": "stdout",
          "text": [
            "Precision@5: 0.6\n"
          ]
        }
      ],
      "source": [
        "def precision_at_k(actual, predicted, k):\n",
        "    relevant_items = set(actual[:k])  # Get top-K actual anime\n",
        "    recommended_items = set(predicted[:k])  # Get top-K recommended anime\n",
        "    return len(relevant_items & recommended_items) / k\n",
        "\n",
        "# Example lists (Replace with actual values)\n",
        "actual_top_k = [11061, 11757, 11617, 14345, 125]\n",
        "predicted_top_k = [11061, 11757, 11617, 20237, 29429]\n",
        "\n",
        "precision_k = precision_at_k(actual_top_k, predicted_top_k, k=5)\n",
        "print(f\"Precision@5: {precision_k}\")\n"
      ]
    },
    {
      "cell_type": "code",
      "execution_count": null,
      "metadata": {
        "colab": {
          "base_uri": "https://localhost:8080/"
        },
        "id": "_naUuTIzWWC0",
        "outputId": "29ff4278-b07f-4ad2-9ea4-538d4fd08e68"
      },
      "outputs": [
        {
          "output_type": "stream",
          "name": "stdout",
          "text": [
            "Hit Ratio: 0.4\n"
          ]
        }
      ],
      "source": [
        "def hit_ratio(actual, predicted):\n",
        "    hits = sum(1 for item in predicted if item in actual)\n",
        "    return hits / len(actual)\n",
        "\n",
        "# Example watch history & recommendations (Replace with real data)\n",
        "user_watch_history = [11061, 11757, 11617, 14345, 125]\n",
        "recommended_anime = [11061, 11757, 29429, 32136, 25815]\n",
        "\n",
        "hit_ratio_score = hit_ratio(user_watch_history, recommended_anime)\n",
        "print(f\"Hit Ratio: {hit_ratio_score}\")\n"
      ]
    },
    {
      "cell_type": "code",
      "execution_count": null,
      "metadata": {
        "colab": {
          "base_uri": "https://localhost:8080/"
        },
        "id": "9JPHfFNfGBLr",
        "outputId": "f3dc89d9-a107-403e-98d0-0dd634a5f5b4"
      },
      "outputs": [
        {
          "output_type": "stream",
          "name": "stdout",
          "text": [
            "Cosine Similarity Matrix Generated & Saved Successfully!\n"
          ]
        }
      ],
      "source": [
        "import pandas as pd\n",
        "from sklearn.feature_extraction.text import TfidfVectorizer\n",
        "from sklearn.metrics.pairwise import cosine_similarity\n",
        "import pickle\n",
        "\n",
        "# Load anime dataset\n",
        "anime_df = pd.read_csv(\"/content/drive/MyDrive/Anime Recommendation/anime.csv\")\n",
        "\n",
        "# Ensure 'combined_features' column exists\n",
        "if 'combined_features' not in anime_df.columns:\n",
        "    anime_df['combined_features'] = anime_df[['genre', 'type', 'rating', 'members']].astype(str).agg(' '.join, axis=1)\n",
        "\n",
        "# Initialize TF-IDF Vectorizer\n",
        "tfidf = TfidfVectorizer(stop_words='english')\n",
        "\n",
        "# Transform the combined text features into TF-IDF vectors\n",
        "tfidf_matrix = tfidf.fit_transform(anime_df['combined_features'])\n",
        "\n",
        "# Compute cosine similarity matrix\n",
        "cosine_similarity_matrix = cosine_similarity(tfidf_matrix)\n",
        "\n",
        "# Save cosine similarity matrix\n",
        "with open(\"cosine_similarity.pkl\", \"wb\") as file:\n",
        "    pickle.dump(cosine_similarity_matrix, file)\n",
        "\n",
        "print(\"Cosine Similarity Matrix Generated & Saved Successfully!\")\n",
        "\n"
      ]
    },
    {
      "cell_type": "code",
      "execution_count": null,
      "metadata": {
        "colab": {
          "base_uri": "https://localhost:8080/"
        },
        "id": "W5tjmwNHaEgO",
        "outputId": "db7db5c7-e7e3-4ed3-9d3f-d5daa40b0be4"
      },
      "outputs": [
        {
          "output_type": "stream",
          "name": "stdout",
          "text": [
            "     anime_id              name                                      genre  \\\n",
            "804     11757  Sword Art Online  Action, Adventure, Fantasy, Game, Romance   \n",
            "\n",
            "    type episodes  rating  members  \\\n",
            "804   TV       25    7.83   893100   \n",
            "\n",
            "                                     combined_features  \n",
            "804  Action, Adventure, Fantasy, Game, Romance TV 7...  \n"
          ]
        }
      ],
      "source": [
        "print(anime_df[anime_df['name'] == \"Sword Art Online\"])\n"
      ]
    },
    {
      "cell_type": "code",
      "execution_count": null,
      "metadata": {
        "colab": {
          "base_uri": "https://localhost:8080/"
        },
        "id": "5r8X4wYraFU0",
        "outputId": "b06ec5ae-9091-4ca2-94db-5bea6a3e8b9d"
      },
      "outputs": [
        {
          "output_type": "stream",
          "name": "stdout",
          "text": [
            "Similarity Scores: [(10821, np.float64(0.41392712137775994)), (9683, np.float64(0.3815501787666951)), (10410, np.float64(0.36299456233540706)), (8135, np.float64(0.3455418273054368)), (10555, np.float64(0.3419364010993109))]\n",
            "['Yokohama Bakkure-tai', 'Narara Superboard', 'Straw Byururu', 'Anime Document: München e no Michi', 'Time-Patrol Bon: Fujiko F. Fujio Anime Special - SF Adventure']\n"
          ]
        }
      ],
      "source": [
        "def get_anime_recommendations(anime_name, df=anime_df):\n",
        "    if anime_name not in df['name'].values:\n",
        "        return \"Anime not found!\"\n",
        "\n",
        "    idx = df[df['name'] == anime_name].index[0]\n",
        "\n",
        "    sim_scores = list(enumerate(cosine_similarity_matrix[idx]))\n",
        "    sim_scores = sorted(sim_scores, key=lambda x: x[1], reverse=True)[1:6]\n",
        "\n",
        "    print(\"Similarity Scores:\", sim_scores)  # Debugging step\n",
        "\n",
        "    recommendations = [df.iloc[i[0]]['name'] for i in sim_scores]\n",
        "    return recommendations\n",
        "\n",
        "print(get_anime_recommendations(\"Sword Art Online\"))\n"
      ]
    },
    {
      "cell_type": "code",
      "execution_count": null,
      "metadata": {
        "colab": {
          "base_uri": "https://localhost:8080/"
        },
        "id": "gAhV91CDaNei",
        "outputId": "47c14148-989c-4bd8-cef1-75ed2adacd6f"
      },
      "outputs": [
        {
          "output_type": "stream",
          "name": "stdout",
          "text": [
            "(12294, 6771)\n"
          ]
        }
      ],
      "source": [
        "print(tfidf_matrix.shape)\n"
      ]
    },
    {
      "cell_type": "code",
      "execution_count": null,
      "metadata": {
        "id": "E8AvT_cfaRBd"
      },
      "outputs": [],
      "source": [
        "anime_df['combined_features'] = anime_df[['genre', 'type', 'rating']].astype(str).agg(' '.join, axis=1)\n"
      ]
    },
    {
      "cell_type": "code",
      "execution_count": null,
      "metadata": {
        "colab": {
          "base_uri": "https://localhost:8080/"
        },
        "id": "TrEzweIhaTmL",
        "outputId": "e4ef57a4-21b2-401d-9728-1177f97eab0f"
      },
      "outputs": [
        {
          "output_type": "stream",
          "name": "stdout",
          "text": [
            "New Cosine Similarity Matrix Generated!\n"
          ]
        }
      ],
      "source": [
        "# Reinitialize vectorizer\n",
        "tfidf = TfidfVectorizer(stop_words='english')\n",
        "\n",
        "# Transform text features into TF-IDF vectors\n",
        "tfidf_matrix = tfidf.fit_transform(anime_df['combined_features'])\n",
        "\n",
        "# Compute cosine similarity matrix again\n",
        "cosine_similarity_matrix = cosine_similarity(tfidf_matrix)\n",
        "\n",
        "# Save it again\n",
        "import pickle\n",
        "with open(\"cosine_similarity.pkl\", \"wb\") as file:\n",
        "    pickle.dump(cosine_similarity_matrix, file)\n",
        "\n",
        "print(\"New Cosine Similarity Matrix Generated!\")\n"
      ]
    },
    {
      "cell_type": "code",
      "execution_count": null,
      "metadata": {
        "colab": {
          "base_uri": "https://localhost:8080/"
        },
        "id": "CMJP1ffTbE-B",
        "outputId": "daf4c818-7cc7-429e-d3db-0ac881ddf827"
      },
      "outputs": [
        {
          "output_type": "stream",
          "name": "stdout",
          "text": [
            "['Sword Art Online: Extra Edition', 'Sword Art Online II', 'Densetsu no Yuusha no Densetsu', 'Bakugan Battle Brawlers: New Vestroia', 'Sword Art Online Movie: Ordinal Scale']\n"
          ]
        }
      ],
      "source": [
        "def get_anime_recommendations(anime_name, df=anime_df, min_members=10000):\n",
        "    if anime_name not in df['name'].values:\n",
        "        return \"Anime not found!\"\n",
        "\n",
        "    idx = df[df['name'] == anime_name].index[0]\n",
        "    sim_scores = list(enumerate(cosine_similarity_matrix[idx]))\n",
        "    sim_scores = sorted(sim_scores, key=lambda x: x[1], reverse=True)[1:11]  # Get top 10\n",
        "\n",
        "    # Filter out unpopular anime\n",
        "    recommendations = [df.iloc[i[0]]['name'] for i in sim_scores if df.iloc[i[0]]['members'] >= min_members][:5]\n",
        "\n",
        "    return recommendations\n",
        "\n",
        "print(get_anime_recommendations(\"Sword Art Online\"))\n"
      ]
    },
    {
      "cell_type": "code",
      "execution_count": null,
      "metadata": {
        "id": "FhVtgajCbHMW"
      },
      "outputs": [],
      "source": [
        "anime_df['weighted_features'] = anime_df.apply(lambda x: f\"{x['genre']} {x['type']} Rating:{x['rating']**2} Members:{x['members']}\", axis=1)\n"
      ]
    },
    {
      "cell_type": "code",
      "execution_count": null,
      "metadata": {
        "id": "5jan64UUbJgs"
      },
      "outputs": [],
      "source": [
        "tfidf_matrix = tfidf.fit_transform(anime_df['weighted_features'])\n",
        "cosine_similarity_matrix = cosine_similarity(tfidf_matrix)\n"
      ]
    },
    {
      "cell_type": "code",
      "execution_count": null,
      "metadata": {
        "colab": {
          "base_uri": "https://localhost:8080/"
        },
        "id": "bMC8OMEjbRz_",
        "outputId": "0fac9c5c-99ea-417a-f3bf-0801a593db82"
      },
      "outputs": [
        {
          "output_type": "stream",
          "name": "stdout",
          "text": [
            "['Sword Art Online II', 'Sword Art Online: Extra Edition', 'Sword Art Online Movie: Ordinal Scale', 'Sword Art Online II: Debriefing', 'Ys IV: The Dawn of Ys']\n"
          ]
        }
      ],
      "source": [
        "from sklearn.metrics import jaccard_score\n",
        "from sklearn.preprocessing import MultiLabelBinarizer\n",
        "\n",
        "mlb = MultiLabelBinarizer()\n",
        "anime_df['genre'] = anime_df['genre'].fillna('')  # Replace NaN with empty string\n",
        "genre_matrix = mlb.fit_transform(anime_df['genre'].astype(str).str.split(', '))\n",
        "\n",
        "\n",
        "jaccard_sim = cosine_similarity(genre_matrix)\n",
        "\n",
        "def get_diverse_recommendations(anime_name):\n",
        "    idx = anime_df[anime_df['name'] == anime_name].index[0]\n",
        "    sim_scores = list(enumerate(jaccard_sim[idx]))\n",
        "    sim_scores = sorted(sim_scores, key=lambda x: x[1], reverse=True)[1:6]\n",
        "    return [anime_df.iloc[i[0]]['name'] for i in sim_scores]\n",
        "\n",
        "print(get_diverse_recommendations(\"Sword Art Online\"))\n"
      ]
    },
    {
      "cell_type": "code",
      "execution_count": null,
      "metadata": {
        "colab": {
          "base_uri": "https://localhost:8080/"
        },
        "id": "ApGoO45kc6qt",
        "outputId": "8ec3d942-e261-48ad-9a7b-2a6b7f9c67f7"
      },
      "outputs": [
        {
          "output_type": "stream",
          "name": "stdout",
          "text": [
            "✅ Model and data saved successfully!\n"
          ]
        }
      ],
      "source": [
        "import numpy as np\n",
        "import pandas as pd\n",
        "import pickle\n",
        "\n",
        "# Save Cosine Similarity Matrix\n",
        "np.save(\"cosine_similarity_matrix.npy\", cosine_similarity_matrix)\n",
        "\n",
        "# Save Anime DataFrame\n",
        "anime_df.to_csv(\"anime_data.csv\", index=False)\n",
        "\n",
        "# Save the TF-IDF Model\n",
        "with open(\"tfidf_vectorizer.pkl\", \"wb\") as f:\n",
        "    pickle.dump(tfidf, f)\n",
        "\n",
        "print(\"✅ Model and data saved successfully!\")\n"
      ]
    },
    {
      "cell_type": "markdown",
      "metadata": {
        "id": "7linkEURurVa"
      },
      "source": []
    },
    {
      "cell_type": "code",
      "source": [
        "import requests\n",
        "\n",
        "hf_url = \"https://your-space-name.hf.space\"  # Replace with your actual URL\n",
        "\n",
        "response = requests.get(f\"{hf_url}/recommend\", params={\"anime_name\": \"Naruto\"})\n",
        "\n",
        "if response.status_code == 200:\n",
        "    print(\"Response:\", response.json())"
      ],
      "metadata": {
        "id": "AUH9IHCo1WNx"
      },
      "execution_count": null,
      "outputs": []
    }
  ],
  "metadata": {
    "colab": {
      "provenance": []
    },
    "kernelspec": {
      "display_name": "Python 3",
      "name": "python3"
    },
    "language_info": {
      "name": "python"
    }
  },
  "nbformat": 4,
  "nbformat_minor": 0
}